{
 "cells": [
  {
   "cell_type": "markdown",
   "id": "f6d6b42f-129d-485d-a5d7-89d4b021886b",
   "metadata": {},
   "source": [
    "# Aykırı Gözlem Genel Tanım"
   ]
  },
  {
   "cell_type": "markdown",
   "id": "37b5102a-c08b-49ea-9e17-0dded956126d",
   "metadata": {},
   "source": [
    "### Veride genel eğilimin oldukça dışına çıkan ya da diğer gözlemlerden oldukça farklı olan gözlemlere aykırı gözlem denir."
   ]
  },
  {
   "cell_type": "markdown",
   "id": "e7d6c559-7b2d-46fa-bbcf-0e52929f533b",
   "metadata": {},
   "source": [
    "## Aykırı Değer (Outlier) Nedir ?\n",
    "### Aykırılığı ifade eden nümerik değere aykırı değer denir\n",
    "\n",
    "\n",
    "## Aykırı Gözlem Nedir ?\n",
    "### Aykırı değeri barındıran gözlem birimine aykırı gözlem denir."
   ]
  },
  {
   "cell_type": "markdown",
   "id": "fb1d25e1-853c-49ab-9a3b-ff2a4179dd96",
   "metadata": {},
   "source": [
    "# Neye Göre Kime Göre Aykırı Gözlem ?"
   ]
  },
  {
   "cell_type": "markdown",
   "id": "9648c595-677d-4fa3-a6ad-d0449dd9e698",
   "metadata": {},
   "source": [
    "### Eğer kurulan modelin bir genelleme kaygısı varsa; zaten çok seyrek olan senaryolar ve genele uymayan yapılar çalışmanın dışında bırakılmalıdır."
   ]
  },
  {
   "cell_type": "markdown",
   "id": "87002dda-485d-4505-9e1c-4bff88c952ec",
   "metadata": {},
   "source": [
    "## 1. Sektör Bilgisi\n",
    "### Örneğin bir ev fiyat tahmin modelinde 1000 metrekarelik evleri modellemeye almamak. Çünkü özellikle ülkemizde evler ortalama olarak 2+1 ve 3+1 'dir. Metrekare cinsinden ortalama 200 civarında olacaktır. Bu örnek için 1000 metrekare aykırı gözlem sayılabilir.\n",
    "\n",
    "\n",
    "## Standart Sapma Yaklaşımı\n",
    "### Bir değişkenin ortalamasının üzerine aynı değişkenin standart sapması hesaplanarak eklenir. 1,2 ya da 3 standart sapma değeri ortalama üzerine eklenerek ortaya çıkan bu değer eşik değer olarak düşünülür ve bu değerden yukarıda ya da aşağıda olan değerler aykırı değer olarak tanımlanır.\n",
    "\n",
    "\n",
    "## Z-Skoru Yaklaşımı\n",
    "### Standart sapma yöntemine benzer şekilde çalışır. Değişken standart normal dağılıma uyarlanır, yani standartlaştırılır. Sonrasında -örneğin- dağılımın sağından ve solundan -+ 2,5 değerine göre bir eşik değer konulur ve bu değerin üzerinde ya da altında olan değerler aykırı değer olarak işaretlenir.\n",
    "\n",
    "## Boxplot (interquartile range - IQR) Yöntemi\n",
    "### En sık kullanılan yöntemlerden birisidir. Değişkenin değerleri küçükten büyüğe sıralanır. Kartillerine yani Q1, Q3 değerlerine karşılık değerler üzerinden bir eşik değer hesaplanır ve bu eşik değere göre aykırı değer tanımı yapılır."
   ]
  }
 ],
 "metadata": {
  "kernelspec": {
   "display_name": "Python 3 (ipykernel)",
   "language": "python",
   "name": "python3"
  },
  "language_info": {
   "codemirror_mode": {
    "name": "ipython",
    "version": 3
   },
   "file_extension": ".py",
   "mimetype": "text/x-python",
   "name": "python",
   "nbconvert_exporter": "python",
   "pygments_lexer": "ipython3",
   "version": "3.9.12"
  }
 },
 "nbformat": 4,
 "nbformat_minor": 5
}
