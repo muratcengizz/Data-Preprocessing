{
 "cells": [
  {
   "cell_type": "markdown",
   "id": "5d754da4-ed3d-4961-928c-3c1d2a8612b7",
   "metadata": {},
   "source": [
    "## Eksik Veri Nedir ?\n",
    "\n",
    "### İncelenen veri setindeki gözlemlerde eksiklik olması durumunu ifade etmektedir."
   ]
  },
  {
   "cell_type": "markdown",
   "id": "896fc576-8829-471e-a44d-58a5372647cb",
   "metadata": {},
   "source": [
    "# Eksik Gözlem Analizi"
   ]
  },
  {
   "cell_type": "markdown",
   "id": "365b311c-a889-4c9e-abe8-ee8eb1168413",
   "metadata": {},
   "source": [
    "### Eksik veriler, veri analizi sürecinde yaygun bir sorundur ve bu nedenle eksik verilerin doğru bir şekilde ele alınması ve analiz edilmesi önemlidir. İşte eksik veri analizinde dikkat edilmesi gereken bazı noktalar:\n",
    "\n",
    "### 1. Eksik Verilerin Türünü Anlayın: Eksik veriler, bir veri setindeki eksik gözlemler ya da eksik özellikler olabilir. Bu nedenle, eksik verilerin türünü anlamak ve bu bilgiyi analiz sürecinde kullanmak önemlidir.\n",
    "\n",
    "#### Tümüyle Raslantısal Kayıp: Diğer değişkenlerden ya da yapısal bir problemden kaynaklanmayan tamamen rastgele oluşan gözlemler.\n",
    "\n",
    "#### Raslantısal Kayıp: Diğer değişkenlere bağlı olarak oluşabilen eksiklik türü.\n",
    "\n",
    "#### Raslantısal Olmayan Kayıp: Göz ardı edilemeyecek olan ve yapısal problemler ile ortaya çıkan eksiklik türü.\n",
    "\n",
    "\n",
    "\n",
    "\n",
    "### 2. Eksik Verilerin Nedenini Anlayın: Eksik verilerin nedenini anlamak, verilerin doğru bir şekilde ele alınmasını sağlar. Eksik verilerin nedeni, örneğin verilerin yanlışlıkla silinmesi, veri giriş hatası ya da eksik özelliklerin veri kaynağından eksik olarak sağlanması olabilir.\n",
    "\n",
    "### 3. Eksik Verileri Doldurma Yöntemleri: Eksik verileri doldurma yötemleri, veri analiz sürecinde önemli bir rol oynar. Bazı yöntemler arasında ortalama değer doldurma, en yakın komşu yöntemi, regresyon analizi ve çoklu emme yöntemleri yer alır.\n",
    "\n",
    "### 4. Eksik Verilerin Etkisini Ölçün: Eksik verilerin etkisini ölçmek, eksik verilerin analiz sonuçlarına nasıl etki ettiğini anlamak için önemlidir. Eksik verilerin etkisini ölçmek için, eksik verileri kaldırarak veya doldurarak analiz sonuçlarının nasıl değiştiğini gözlemleyebilirsiniz.\n",
    "\n",
    "### 5. Eksik Verilerin Yerine Geçen Verilerin Doğruluğunu Kontrol Edin: Eksik verilerin yerine geçen verilerin doğruluğunu kontrol etmek, analiz sonuçlarının doğru ve güvenilir olmasını sağlar. Eksik verileri doldurma yöntemleri kullanırken, bu yöntemlerin sonuçlarının ne kadar doğru olduğunu anlamak için eksik verilerin yerine geçen verilerin doğruluğunu kontrol etmek önemlidir."
   ]
  },
  {
   "cell_type": "markdown",
   "id": "aaa89a76-879b-4a06-a420-171228e61107",
   "metadata": {},
   "source": [
    "# Eksik Veri Problemi Nasıl Giderilir ?\n",
    "\n",
    "## Silme Yöntemleri\n",
    "### Gözlem ya da değişken silme yöntemi\n",
    "### Liste bazında silme yöntemi (Listwise Method)\n",
    "### Çiftler bazında silme yöntemi (Pairwise Method)\n",
    "\n",
    "\n",
    "## Değer Atama Yöntemleri\n",
    "### Ortanca, ortalama, medyan\n",
    "### En benzer birime atama (hot deck)\n",
    "### Dış kaynaklı atama\n",
    "\n",
    "\n",
    "## Tahmine Dayalı Yöntemler (İleri Seviye)\n",
    "### Makine Öğrenmesi\n",
    "### EM\n",
    "### Çoklu atama yöntemi"
   ]
  }
 ],
 "metadata": {
  "kernelspec": {
   "display_name": "Python 3 (ipykernel)",
   "language": "python",
   "name": "python3"
  },
  "language_info": {
   "codemirror_mode": {
    "name": "ipython",
    "version": 3
   },
   "file_extension": ".py",
   "mimetype": "text/x-python",
   "name": "python",
   "nbconvert_exporter": "python",
   "pygments_lexer": "ipython3",
   "version": "3.9.12"
  }
 },
 "nbformat": 4,
 "nbformat_minor": 5
}
