{
 "cells": [
  {
   "cell_type": "markdown",
   "id": "2eb350be-67c0-46de-8200-1120c08798a4",
   "metadata": {},
   "source": [
    "# Veri Standardizasyonu & Değişken Dönüşümü"
   ]
  },
  {
   "cell_type": "code",
   "execution_count": 1,
   "id": "e4fe0bba-86f5-4ad4-97b5-af077ce23bc5",
   "metadata": {},
   "outputs": [],
   "source": [
    "import numpy as np\n",
    "import pandas as pd"
   ]
  },
  {
   "cell_type": "code",
   "execution_count": 2,
   "id": "d5b5534f-1b1a-466c-8927-3eb301268d73",
   "metadata": {},
   "outputs": [
    {
     "data": {
      "text/html": [
       "<div>\n",
       "<style scoped>\n",
       "    .dataframe tbody tr th:only-of-type {\n",
       "        vertical-align: middle;\n",
       "    }\n",
       "\n",
       "    .dataframe tbody tr th {\n",
       "        vertical-align: top;\n",
       "    }\n",
       "\n",
       "    .dataframe thead th {\n",
       "        text-align: right;\n",
       "    }\n",
       "</style>\n",
       "<table border=\"1\" class=\"dataframe\">\n",
       "  <thead>\n",
       "    <tr style=\"text-align: right;\">\n",
       "      <th></th>\n",
       "      <th>V1</th>\n",
       "      <th>V2</th>\n",
       "      <th>V3</th>\n",
       "    </tr>\n",
       "  </thead>\n",
       "  <tbody>\n",
       "    <tr>\n",
       "      <th>0</th>\n",
       "      <td>1.0</td>\n",
       "      <td>7.0</td>\n",
       "      <td>6.0</td>\n",
       "    </tr>\n",
       "    <tr>\n",
       "      <th>1</th>\n",
       "      <td>3.0</td>\n",
       "      <td>7.0</td>\n",
       "      <td>12.0</td>\n",
       "    </tr>\n",
       "    <tr>\n",
       "      <th>2</th>\n",
       "      <td>6.0</td>\n",
       "      <td>5.0</td>\n",
       "      <td>5.0</td>\n",
       "    </tr>\n",
       "    <tr>\n",
       "      <th>3</th>\n",
       "      <td>5.0</td>\n",
       "      <td>8.0</td>\n",
       "      <td>6.0</td>\n",
       "    </tr>\n",
       "    <tr>\n",
       "      <th>4</th>\n",
       "      <td>7.0</td>\n",
       "      <td>12.0</td>\n",
       "      <td>14.0</td>\n",
       "    </tr>\n",
       "  </tbody>\n",
       "</table>\n",
       "</div>"
      ],
      "text/plain": [
       "    V1    V2    V3\n",
       "0  1.0   7.0   6.0\n",
       "1  3.0   7.0  12.0\n",
       "2  6.0   5.0   5.0\n",
       "3  5.0   8.0   6.0\n",
       "4  7.0  12.0  14.0"
      ]
     },
     "execution_count": 2,
     "metadata": {},
     "output_type": "execute_result"
    }
   ],
   "source": [
    "V1 = np.array([1, 3, 6, 5, 7])\n",
    "V2 = np.array([7, 7, 5, 8, 12])\n",
    "V3 = np.array([6, 12, 5, 6, 14])\n",
    "\n",
    "df = pd.DataFrame({\n",
    "    \"V1\": V1,\n",
    "    \"V2\": V2,\n",
    "    \"V3\": V3\n",
    "})\n",
    "\n",
    "df = df.astype(float)\n",
    "df"
   ]
  },
  {
   "cell_type": "markdown",
   "id": "bb3e76b9-edf1-4638-8823-55015ad5b1ea",
   "metadata": {},
   "source": [
    "# Standartlaştırma"
   ]
  },
  {
   "cell_type": "code",
   "execution_count": 3,
   "id": "2127e820-114f-49a1-8df1-7b66ee1675dd",
   "metadata": {},
   "outputs": [],
   "source": [
    "from sklearn import preprocessing"
   ]
  },
  {
   "cell_type": "code",
   "execution_count": 4,
   "id": "1242c12e-fa1e-468f-9e98-cdca6e394b0b",
   "metadata": {},
   "outputs": [
    {
     "data": {
      "text/plain": [
       "array([[-1.57841037, -0.34554737, -0.70920814],\n",
       "       [-0.64993368, -0.34554737,  0.92742603],\n",
       "       [ 0.74278135, -1.2094158 , -0.98198051],\n",
       "       [ 0.27854301,  0.08638684, -0.70920814],\n",
       "       [ 1.2070197 ,  1.81412369,  1.47297076]])"
      ]
     },
     "execution_count": 4,
     "metadata": {},
     "output_type": "execute_result"
    }
   ],
   "source": [
    "preprocessing.scale(df)"
   ]
  },
  {
   "cell_type": "code",
   "execution_count": 5,
   "id": "ca32f87f-658a-443d-bd3c-8841d5ff339c",
   "metadata": {},
   "outputs": [
    {
     "data": {
      "text/html": [
       "<div>\n",
       "<style scoped>\n",
       "    .dataframe tbody tr th:only-of-type {\n",
       "        vertical-align: middle;\n",
       "    }\n",
       "\n",
       "    .dataframe tbody tr th {\n",
       "        vertical-align: top;\n",
       "    }\n",
       "\n",
       "    .dataframe thead th {\n",
       "        text-align: right;\n",
       "    }\n",
       "</style>\n",
       "<table border=\"1\" class=\"dataframe\">\n",
       "  <thead>\n",
       "    <tr style=\"text-align: right;\">\n",
       "      <th></th>\n",
       "      <th>V1</th>\n",
       "      <th>V2</th>\n",
       "      <th>V3</th>\n",
       "    </tr>\n",
       "  </thead>\n",
       "  <tbody>\n",
       "    <tr>\n",
       "      <th>0</th>\n",
       "      <td>1.0</td>\n",
       "      <td>7.0</td>\n",
       "      <td>6.0</td>\n",
       "    </tr>\n",
       "    <tr>\n",
       "      <th>1</th>\n",
       "      <td>3.0</td>\n",
       "      <td>7.0</td>\n",
       "      <td>12.0</td>\n",
       "    </tr>\n",
       "    <tr>\n",
       "      <th>2</th>\n",
       "      <td>6.0</td>\n",
       "      <td>5.0</td>\n",
       "      <td>5.0</td>\n",
       "    </tr>\n",
       "    <tr>\n",
       "      <th>3</th>\n",
       "      <td>5.0</td>\n",
       "      <td>8.0</td>\n",
       "      <td>6.0</td>\n",
       "    </tr>\n",
       "    <tr>\n",
       "      <th>4</th>\n",
       "      <td>7.0</td>\n",
       "      <td>12.0</td>\n",
       "      <td>14.0</td>\n",
       "    </tr>\n",
       "  </tbody>\n",
       "</table>\n",
       "</div>"
      ],
      "text/plain": [
       "    V1    V2    V3\n",
       "0  1.0   7.0   6.0\n",
       "1  3.0   7.0  12.0\n",
       "2  6.0   5.0   5.0\n",
       "3  5.0   8.0   6.0\n",
       "4  7.0  12.0  14.0"
      ]
     },
     "execution_count": 5,
     "metadata": {},
     "output_type": "execute_result"
    }
   ],
   "source": [
    "df"
   ]
  },
  {
   "cell_type": "markdown",
   "id": "3ab09752-1045-41e1-8bbc-3b415c1370d1",
   "metadata": {},
   "source": [
    "# Normalizasyon"
   ]
  },
  {
   "cell_type": "code",
   "execution_count": 6,
   "id": "0548fbc3-42eb-4135-a8ed-1d2dcd5874f8",
   "metadata": {},
   "outputs": [
    {
     "data": {
      "text/plain": [
       "array([[0.10783277, 0.75482941, 0.64699664],\n",
       "       [0.21107926, 0.49251828, 0.84431705],\n",
       "       [0.64699664, 0.53916387, 0.53916387],\n",
       "       [0.4472136 , 0.71554175, 0.53665631],\n",
       "       [0.35491409, 0.60842415, 0.70982818]])"
      ]
     },
     "execution_count": 6,
     "metadata": {},
     "output_type": "execute_result"
    }
   ],
   "source": [
    "preprocessing.normalize(df)"
   ]
  },
  {
   "cell_type": "markdown",
   "id": "47fcc8ee-17eb-477c-8529-78821556f041",
   "metadata": {},
   "source": [
    "# Min-Max Dönüşümü"
   ]
  },
  {
   "cell_type": "code",
   "execution_count": 7,
   "id": "fc4678e8-42c3-4faa-8f80-0745ca8417b8",
   "metadata": {},
   "outputs": [],
   "source": [
    "scaler = preprocessing.MinMaxScaler(feature_range = (10, 20))"
   ]
  },
  {
   "cell_type": "code",
   "execution_count": 8,
   "id": "cf0f7383-219e-428c-aee4-4d19d692c63c",
   "metadata": {},
   "outputs": [
    {
     "data": {
      "text/plain": [
       "array([[10.        , 12.85714286, 11.11111111],\n",
       "       [13.33333333, 12.85714286, 17.77777778],\n",
       "       [18.33333333, 10.        , 10.        ],\n",
       "       [16.66666667, 14.28571429, 11.11111111],\n",
       "       [20.        , 20.        , 20.        ]])"
      ]
     },
     "execution_count": 8,
     "metadata": {},
     "output_type": "execute_result"
    }
   ],
   "source": [
    "scaler.fit_transform(df)"
   ]
  },
  {
   "cell_type": "markdown",
   "id": "47047fcf-0310-41da-87c6-4f91971d9970",
   "metadata": {},
   "source": [
    "# Binarize Dönüşüm"
   ]
  },
  {
   "cell_type": "code",
   "execution_count": 11,
   "id": "4cccef9d-6106-40c4-b1eb-c66aebe0e964",
   "metadata": {},
   "outputs": [
    {
     "data": {
      "text/plain": [
       "array([[0., 1., 1.],\n",
       "       [0., 1., 1.],\n",
       "       [1., 0., 0.],\n",
       "       [0., 1., 1.],\n",
       "       [1., 1., 1.]])"
      ]
     },
     "execution_count": 11,
     "metadata": {},
     "output_type": "execute_result"
    }
   ],
   "source": [
    "binarizer = preprocessing.Binarizer(threshold = 5).fit(df)\n",
    "binarizer.transform(df)"
   ]
  }
 ],
 "metadata": {
  "kernelspec": {
   "display_name": "Python 3 (ipykernel)",
   "language": "python",
   "name": "python3"
  },
  "language_info": {
   "codemirror_mode": {
    "name": "ipython",
    "version": 3
   },
   "file_extension": ".py",
   "mimetype": "text/x-python",
   "name": "python",
   "nbconvert_exporter": "python",
   "pygments_lexer": "ipython3",
   "version": "3.9.12"
  }
 },
 "nbformat": 4,
 "nbformat_minor": 5
}
