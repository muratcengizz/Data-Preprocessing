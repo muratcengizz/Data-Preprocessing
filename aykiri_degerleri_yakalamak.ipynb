{
 "cells": [
  {
   "cell_type": "markdown",
   "id": "17eaa96c-8d83-4d59-ade8-da553b72a5f3",
   "metadata": {},
   "source": [
    "# Aykırı Gözlem Analizi\n",
    "## Aykırı Değerleri Yakalamak"
   ]
  },
  {
   "cell_type": "code",
   "execution_count": 2,
   "id": "7557c771-64b6-4a58-bc6c-bd04736f2a01",
   "metadata": {},
   "outputs": [],
   "source": [
    "import seaborn as sns"
   ]
  },
  {
   "cell_type": "code",
   "execution_count": 3,
   "id": "b98d9945-0a6f-489c-9f91-e289f02a7c3b",
   "metadata": {
    "tags": []
   },
   "outputs": [
    {
     "data": {
      "text/html": [
       "<div>\n",
       "<style scoped>\n",
       "    .dataframe tbody tr th:only-of-type {\n",
       "        vertical-align: middle;\n",
       "    }\n",
       "\n",
       "    .dataframe tbody tr th {\n",
       "        vertical-align: top;\n",
       "    }\n",
       "\n",
       "    .dataframe thead th {\n",
       "        text-align: right;\n",
       "    }\n",
       "</style>\n",
       "<table border=\"1\" class=\"dataframe\">\n",
       "  <thead>\n",
       "    <tr style=\"text-align: right;\">\n",
       "      <th></th>\n",
       "      <th>carat</th>\n",
       "      <th>depth</th>\n",
       "      <th>table</th>\n",
       "      <th>price</th>\n",
       "      <th>x</th>\n",
       "      <th>y</th>\n",
       "      <th>z</th>\n",
       "    </tr>\n",
       "  </thead>\n",
       "  <tbody>\n",
       "    <tr>\n",
       "      <th>0</th>\n",
       "      <td>0.23</td>\n",
       "      <td>61.5</td>\n",
       "      <td>55.0</td>\n",
       "      <td>326</td>\n",
       "      <td>3.95</td>\n",
       "      <td>3.98</td>\n",
       "      <td>2.43</td>\n",
       "    </tr>\n",
       "    <tr>\n",
       "      <th>1</th>\n",
       "      <td>0.21</td>\n",
       "      <td>59.8</td>\n",
       "      <td>61.0</td>\n",
       "      <td>326</td>\n",
       "      <td>3.89</td>\n",
       "      <td>3.84</td>\n",
       "      <td>2.31</td>\n",
       "    </tr>\n",
       "    <tr>\n",
       "      <th>2</th>\n",
       "      <td>0.23</td>\n",
       "      <td>56.9</td>\n",
       "      <td>65.0</td>\n",
       "      <td>327</td>\n",
       "      <td>4.05</td>\n",
       "      <td>4.07</td>\n",
       "      <td>2.31</td>\n",
       "    </tr>\n",
       "    <tr>\n",
       "      <th>3</th>\n",
       "      <td>0.29</td>\n",
       "      <td>62.4</td>\n",
       "      <td>58.0</td>\n",
       "      <td>334</td>\n",
       "      <td>4.20</td>\n",
       "      <td>4.23</td>\n",
       "      <td>2.63</td>\n",
       "    </tr>\n",
       "    <tr>\n",
       "      <th>4</th>\n",
       "      <td>0.31</td>\n",
       "      <td>63.3</td>\n",
       "      <td>58.0</td>\n",
       "      <td>335</td>\n",
       "      <td>4.34</td>\n",
       "      <td>4.35</td>\n",
       "      <td>2.75</td>\n",
       "    </tr>\n",
       "  </tbody>\n",
       "</table>\n",
       "</div>"
      ],
      "text/plain": [
       "   carat  depth  table  price     x     y     z\n",
       "0   0.23   61.5   55.0    326  3.95  3.98  2.43\n",
       "1   0.21   59.8   61.0    326  3.89  3.84  2.31\n",
       "2   0.23   56.9   65.0    327  4.05  4.07  2.31\n",
       "3   0.29   62.4   58.0    334  4.20  4.23  2.63\n",
       "4   0.31   63.3   58.0    335  4.34  4.35  2.75"
      ]
     },
     "execution_count": 3,
     "metadata": {},
     "output_type": "execute_result"
    }
   ],
   "source": [
    "df = sns.load_dataset('diamonds')\n",
    "df = df.select_dtypes(include = ['float64', 'int64'])\n",
    "df = df.dropna()\n",
    "df.head()"
   ]
  },
  {
   "cell_type": "code",
   "execution_count": 4,
   "id": "b829ced9-4e39-46b6-8b5f-f34fa0ce4177",
   "metadata": {},
   "outputs": [
    {
     "data": {
      "text/plain": [
       "0    55.0\n",
       "1    61.0\n",
       "2    65.0\n",
       "3    58.0\n",
       "4    58.0\n",
       "Name: table, dtype: float64"
      ]
     },
     "execution_count": 4,
     "metadata": {},
     "output_type": "execute_result"
    }
   ],
   "source": [
    "# table isimli değişken üzerinde çalışacağız.\n",
    "df_table = df['table']\n",
    "df_table.head()"
   ]
  },
  {
   "cell_type": "code",
   "execution_count": 5,
   "id": "28ee3ed5-03f4-4946-8d5d-f13d1ce79a6f",
   "metadata": {},
   "outputs": [
    {
     "data": {
      "image/png": "[encoded data removed]",
      "text/plain": [
       "<Figure size 432x288 with 1 Axes>"
      ]
     },
     "metadata": {
      "needs_background": "light"
     },
     "output_type": "display_data"
    }
   ],
   "source": [
    "# boxplot grafiğindeki 2 düz çizgi alt ve üst eşik değeri ifade ediyor. Bu çizgilerin dışındaki siyah noktalar ise aykırı gözlemleri ifade ediyor.\n",
    "sns.boxplot(x=df_table);"
   ]
  },
  {
   "cell_type": "markdown",
   "id": "be55d51a-5536-4a2a-a715-7ad4eddc7a2f",
   "metadata": {},
   "source": [
    "## Eşik Değer Hesaplaması"
   ]
  },
  {
   "cell_type": "code",
   "execution_count": 6,
   "id": "c488a426-fe1c-4a65-8b6c-c7ee5c9fc839",
   "metadata": {},
   "outputs": [],
   "source": [
    "# Q1 ve Q3 kartillerini belirliyoruz. Eşik değerleri bu kartiller belirler.\n",
    "Q1 = df_table.quantile(0.25)\n",
    "Q3 = df_table.quantile(0.75)\n",
    "IQR = Q3 - Q1 # inter quartile"
   ]
  },
  {
   "cell_type": "code",
   "execution_count": 7,
   "id": "ff8e5df7-f87b-4fbc-8262-a31ab17e1af8",
   "metadata": {},
   "outputs": [
    {
     "data": {
      "text/plain": [
       "56.0"
      ]
     },
     "execution_count": 7,
     "metadata": {},
     "output_type": "execute_result"
    }
   ],
   "source": [
    "Q1"
   ]
  },
  {
   "cell_type": "code",
   "execution_count": 8,
   "id": "6470e883-bfb2-48b7-95ef-a2f90e35e829",
   "metadata": {},
   "outputs": [
    {
     "data": {
      "text/plain": [
       "59.0"
      ]
     },
     "execution_count": 8,
     "metadata": {},
     "output_type": "execute_result"
    }
   ],
   "source": [
    "Q3"
   ]
  },
  {
   "cell_type": "code",
   "execution_count": 9,
   "id": "feeb9bb8-3bbe-4dc3-b25b-6998a363ea91",
   "metadata": {},
   "outputs": [
    {
     "data": {
      "text/plain": [
       "3.0"
      ]
     },
     "execution_count": 9,
     "metadata": {},
     "output_type": "execute_result"
    }
   ],
   "source": [
    "IQR"
   ]
  },
  {
   "cell_type": "code",
   "execution_count": 10,
   "id": "c7fce111-bd06-4b01-b05d-9724b204e68a",
   "metadata": {},
   "outputs": [],
   "source": [
    "# Alt sınır ve üst sınırı bu denklemi kurarak belirliyoruz. Bu sınırlar bizim eşik değerimizi oluşturuyor. Bu sınırların dışındaki veriler aykırı gözlem olarak kabul ediliyor.\n",
    "alt_sinir = Q1 - 1.5 * IQR\n",
    "ust_sinir = Q3 + 1.5 * IQR"
   ]
  },
  {
   "cell_type": "code",
   "execution_count": 11,
   "id": "93ece685-78e5-4d93-85b5-4299be1de05b",
   "metadata": {},
   "outputs": [
    {
     "data": {
      "text/plain": [
       "51.5"
      ]
     },
     "execution_count": 11,
     "metadata": {},
     "output_type": "execute_result"
    }
   ],
   "source": [
    "alt_sinir"
   ]
  },
  {
   "cell_type": "code",
   "execution_count": 12,
   "id": "db64bb2f-2510-4321-94dc-f0c9b6baf228",
   "metadata": {},
   "outputs": [
    {
     "data": {
      "text/plain": [
       "63.5"
      ]
     },
     "execution_count": 12,
     "metadata": {},
     "output_type": "execute_result"
    }
   ],
   "source": [
    "ust_sinir"
   ]
  },
  {
   "cell_type": "markdown",
   "id": "36ee95cd-7cf8-4786-a20b-7be20d3cda36",
   "metadata": {},
   "source": [
    "## ----------------------------------------------------------------"
   ]
  },
  {
   "cell_type": "markdown",
   "id": "f2476510-7f58-4d1a-8e3c-00ae0762dad1",
   "metadata": {},
   "source": [
    "## Aykırı Gözlem Tespiti"
   ]
  },
  {
   "cell_type": "code",
   "execution_count": 13,
   "id": "657cbc02-242b-470c-a2c5-08bf7a482dc8",
   "metadata": {},
   "outputs": [
    {
     "data": {
      "text/plain": [
       "0        False\n",
       "1        False\n",
       "2         True\n",
       "3        False\n",
       "4        False\n",
       "         ...  \n",
       "53935    False\n",
       "53936    False\n",
       "53937    False\n",
       "53938    False\n",
       "53939    False\n",
       "Name: table, Length: 53940, dtype: bool"
      ]
     },
     "execution_count": 13,
     "metadata": {},
     "output_type": "execute_result"
    }
   ],
   "source": [
    "# Bulduğumuz alt ve üst sınırlar çerçevesinde veri setindeki aykırı gözlemleri tespit ediyoruz.\n",
    "(df_table < alt_sinir) | (df_table > ust_sinir)"
   ]
  },
  {
   "cell_type": "code",
   "execution_count": 14,
   "id": "79ffbdf0-d024-4914-9438-ebec4b4a6b55",
   "metadata": {},
   "outputs": [],
   "source": [
    "aykiri_tf = (df_table < alt_sinir)"
   ]
  },
  {
   "cell_type": "code",
   "execution_count": 15,
   "id": "13071be0-e207-4e95-9c9a-e06fc1aa8fce",
   "metadata": {},
   "outputs": [
    {
     "data": {
      "text/plain": [
       "1515     51.0\n",
       "3238     50.1\n",
       "3979     51.0\n",
       "4150     51.0\n",
       "5979     49.0\n",
       "7418     50.0\n",
       "8853     51.0\n",
       "11368    43.0\n",
       "22701    49.0\n",
       "25179    50.0\n",
       "26387    51.0\n",
       "33586    51.0\n",
       "35633    44.0\n",
       "45798    51.0\n",
       "46040    51.0\n",
       "47630    51.0\n",
       "Name: table, dtype: float64"
      ]
     },
     "execution_count": 15,
     "metadata": {},
     "output_type": "execute_result"
    }
   ],
   "source": [
    "df_table[aykiri_tf]\n",
    "## Alt sınırın altındaki değerleri yani aykırı değerleri index numaraları ile fancy index methodunu kullanarak yakaladık."
   ]
  },
  {
   "cell_type": "markdown",
   "id": "e39bd124-6907-4d56-bdbd-767138223c0b",
   "metadata": {},
   "source": [
    "# Aykırı Değer Problemini Çözmek\n",
    "\n",
    "## Silme"
   ]
  },
  {
   "cell_type": "code",
   "execution_count": 16,
   "id": "fac20370-59eb-4c28-97e2-7b439bbb723b",
   "metadata": {},
   "outputs": [],
   "source": [
    "import pandas as pd"
   ]
  },
  {
   "cell_type": "code",
   "execution_count": 17,
   "id": "06eb1028-60c8-4786-96b6-ed4bafec5cee",
   "metadata": {},
   "outputs": [
    {
     "data": {
      "text/plain": [
       "pandas.core.series.Series"
      ]
     },
     "execution_count": 17,
     "metadata": {},
     "output_type": "execute_result"
    }
   ],
   "source": [
    "type(df_table)"
   ]
  },
  {
   "cell_type": "code",
   "execution_count": 18,
   "id": "42f10c30-e7e2-4783-9b42-ed362e8d0b27",
   "metadata": {},
   "outputs": [],
   "source": [
    "df_table = pd.DataFrame(df_table)\n",
    "# Series to DataFrame"
   ]
  },
  {
   "cell_type": "code",
   "execution_count": 19,
   "id": "bec3feb4-fbbb-4435-9c3d-20f09e41fb27",
   "metadata": {},
   "outputs": [
    {
     "data": {
      "text/plain": [
       "(53940, 1)"
      ]
     },
     "execution_count": 19,
     "metadata": {},
     "output_type": "execute_result"
    }
   ],
   "source": [
    "df_table.shape"
   ]
  },
  {
   "cell_type": "code",
   "execution_count": 20,
   "id": "355b2c23-ef04-43b5-aad8-81c5efe76803",
   "metadata": {},
   "outputs": [],
   "source": [
    "t_df = df_table[ ~ (( df_table < (alt_sinir)) | (df_table > (ust_sinir))).any(axis=1)]\n",
    "# tilda (~) işareti kendisinden sonra gelen sorgunun dışındaki elemanları listelemek için kullanılır."
   ]
  },
  {
   "cell_type": "code",
   "execution_count": 21,
   "id": "0450409e-3a13-480d-b30f-4b696012870a",
   "metadata": {},
   "outputs": [
    {
     "data": {
      "text/html": [
       "<div>\n",
       "<style scoped>\n",
       "    .dataframe tbody tr th:only-of-type {\n",
       "        vertical-align: middle;\n",
       "    }\n",
       "\n",
       "    .dataframe tbody tr th {\n",
       "        vertical-align: top;\n",
       "    }\n",
       "\n",
       "    .dataframe thead th {\n",
       "        text-align: right;\n",
       "    }\n",
       "</style>\n",
       "<table border=\"1\" class=\"dataframe\">\n",
       "  <thead>\n",
       "    <tr style=\"text-align: right;\">\n",
       "      <th></th>\n",
       "      <th>table</th>\n",
       "    </tr>\n",
       "  </thead>\n",
       "  <tbody>\n",
       "    <tr>\n",
       "      <th>0</th>\n",
       "      <td>55.0</td>\n",
       "    </tr>\n",
       "    <tr>\n",
       "      <th>1</th>\n",
       "      <td>61.0</td>\n",
       "    </tr>\n",
       "    <tr>\n",
       "      <th>3</th>\n",
       "      <td>58.0</td>\n",
       "    </tr>\n",
       "    <tr>\n",
       "      <th>4</th>\n",
       "      <td>58.0</td>\n",
       "    </tr>\n",
       "    <tr>\n",
       "      <th>5</th>\n",
       "      <td>57.0</td>\n",
       "    </tr>\n",
       "    <tr>\n",
       "      <th>...</th>\n",
       "      <td>...</td>\n",
       "    </tr>\n",
       "    <tr>\n",
       "      <th>53935</th>\n",
       "      <td>57.0</td>\n",
       "    </tr>\n",
       "    <tr>\n",
       "      <th>53936</th>\n",
       "      <td>55.0</td>\n",
       "    </tr>\n",
       "    <tr>\n",
       "      <th>53937</th>\n",
       "      <td>60.0</td>\n",
       "    </tr>\n",
       "    <tr>\n",
       "      <th>53938</th>\n",
       "      <td>58.0</td>\n",
       "    </tr>\n",
       "    <tr>\n",
       "      <th>53939</th>\n",
       "      <td>55.0</td>\n",
       "    </tr>\n",
       "  </tbody>\n",
       "</table>\n",
       "<p>53335 rows × 1 columns</p>\n",
       "</div>"
      ],
      "text/plain": [
       "       table\n",
       "0       55.0\n",
       "1       61.0\n",
       "3       58.0\n",
       "4       58.0\n",
       "5       57.0\n",
       "...      ...\n",
       "53935   57.0\n",
       "53936   55.0\n",
       "53937   60.0\n",
       "53938   58.0\n",
       "53939   55.0\n",
       "\n",
       "[53335 rows x 1 columns]"
      ]
     },
     "execution_count": 21,
     "metadata": {},
     "output_type": "execute_result"
    }
   ],
   "source": [
    "t_df\n",
    "# aykırı değerlerden arındırılmış veri seti."
   ]
  },
  {
   "cell_type": "code",
   "execution_count": 22,
   "id": "4c164f3c-3184-4e32-a9c4-56d3321a3bce",
   "metadata": {},
   "outputs": [
    {
     "data": {
      "text/plain": [
       "(53335, 1)"
      ]
     },
     "execution_count": 22,
     "metadata": {},
     "output_type": "execute_result"
    }
   ],
   "source": [
    "t_df.shape\n",
    "## Yaklaşık 600 adet aykırı gözlemi silmiş olduk."
   ]
  },
  {
   "cell_type": "markdown",
   "id": "59c340dc-f5e6-4782-9035-4a6766e629fb",
   "metadata": {},
   "source": [
    "# Ortalama İle Doldurma"
   ]
  },
  {
   "cell_type": "code",
   "execution_count": 23,
   "id": "9efcd8a3-2628-404f-b55a-5cd93c048a3f",
   "metadata": {},
   "outputs": [],
   "source": [
    "import seaborn as sns\n",
    "import pandas as pd"
   ]
  },
  {
   "cell_type": "code",
   "execution_count": 24,
   "id": "2d2271e2-2a0c-4664-96c6-e3215b458cbc",
   "metadata": {},
   "outputs": [
    {
     "data": {
      "text/html": [
       "<div>\n",
       "<style scoped>\n",
       "    .dataframe tbody tr th:only-of-type {\n",
       "        vertical-align: middle;\n",
       "    }\n",
       "\n",
       "    .dataframe tbody tr th {\n",
       "        vertical-align: top;\n",
       "    }\n",
       "\n",
       "    .dataframe thead th {\n",
       "        text-align: right;\n",
       "    }\n",
       "</style>\n",
       "<table border=\"1\" class=\"dataframe\">\n",
       "  <thead>\n",
       "    <tr style=\"text-align: right;\">\n",
       "      <th></th>\n",
       "      <th>carat</th>\n",
       "      <th>depth</th>\n",
       "      <th>table</th>\n",
       "      <th>price</th>\n",
       "      <th>x</th>\n",
       "      <th>y</th>\n",
       "      <th>z</th>\n",
       "    </tr>\n",
       "  </thead>\n",
       "  <tbody>\n",
       "    <tr>\n",
       "      <th>0</th>\n",
       "      <td>0.23</td>\n",
       "      <td>61.5</td>\n",
       "      <td>55.0</td>\n",
       "      <td>326</td>\n",
       "      <td>3.95</td>\n",
       "      <td>3.98</td>\n",
       "      <td>2.43</td>\n",
       "    </tr>\n",
       "    <tr>\n",
       "      <th>1</th>\n",
       "      <td>0.21</td>\n",
       "      <td>59.8</td>\n",
       "      <td>61.0</td>\n",
       "      <td>326</td>\n",
       "      <td>3.89</td>\n",
       "      <td>3.84</td>\n",
       "      <td>2.31</td>\n",
       "    </tr>\n",
       "    <tr>\n",
       "      <th>2</th>\n",
       "      <td>0.23</td>\n",
       "      <td>56.9</td>\n",
       "      <td>65.0</td>\n",
       "      <td>327</td>\n",
       "      <td>4.05</td>\n",
       "      <td>4.07</td>\n",
       "      <td>2.31</td>\n",
       "    </tr>\n",
       "    <tr>\n",
       "      <th>3</th>\n",
       "      <td>0.29</td>\n",
       "      <td>62.4</td>\n",
       "      <td>58.0</td>\n",
       "      <td>334</td>\n",
       "      <td>4.20</td>\n",
       "      <td>4.23</td>\n",
       "      <td>2.63</td>\n",
       "    </tr>\n",
       "    <tr>\n",
       "      <th>4</th>\n",
       "      <td>0.31</td>\n",
       "      <td>63.3</td>\n",
       "      <td>58.0</td>\n",
       "      <td>335</td>\n",
       "      <td>4.34</td>\n",
       "      <td>4.35</td>\n",
       "      <td>2.75</td>\n",
       "    </tr>\n",
       "  </tbody>\n",
       "</table>\n",
       "</div>"
      ],
      "text/plain": [
       "   carat  depth  table  price     x     y     z\n",
       "0   0.23   61.5   55.0    326  3.95  3.98  2.43\n",
       "1   0.21   59.8   61.0    326  3.89  3.84  2.31\n",
       "2   0.23   56.9   65.0    327  4.05  4.07  2.31\n",
       "3   0.29   62.4   58.0    334  4.20  4.23  2.63\n",
       "4   0.31   63.3   58.0    335  4.34  4.35  2.75"
      ]
     },
     "execution_count": 24,
     "metadata": {},
     "output_type": "execute_result"
    }
   ],
   "source": [
    "df = sns.load_dataset('diamonds')\n",
    "df = df.select_dtypes(include=['float64', 'int64'])\n",
    "df = df.dropna()\n",
    "df.head()"
   ]
  },
  {
   "cell_type": "code",
   "execution_count": 25,
   "id": "06447653-3c50-44b2-ae0b-e5ccdbdc7c7c",
   "metadata": {},
   "outputs": [
    {
     "data": {
      "image/png": "[encoded data removed]",
      "text/plain": [
       "<Figure size 432x288 with 1 Axes>"
      ]
     },
     "metadata": {
      "needs_background": "light"
     },
     "output_type": "display_data"
    }
   ],
   "source": [
    "sns.boxplot(x=df.table);"
   ]
  },
  {
   "cell_type": "code",
   "execution_count": 26,
   "id": "fb91f4d3-c9e2-4271-a53e-576b4f677b02",
   "metadata": {},
   "outputs": [
    {
     "data": {
      "text/plain": [
       "0    55.0\n",
       "1    61.0\n",
       "2    65.0\n",
       "3    58.0\n",
       "4    58.0\n",
       "Name: table, dtype: float64"
      ]
     },
     "execution_count": 26,
     "metadata": {},
     "output_type": "execute_result"
    }
   ],
   "source": [
    "df_table = df['table']\n",
    "df_table.head()"
   ]
  },
  {
   "cell_type": "code",
   "execution_count": 27,
   "id": "2b291673-5e12-472a-901e-d459a852417b",
   "metadata": {},
   "outputs": [
    {
     "data": {
      "text/plain": [
       "1515     51.0\n",
       "3238     50.1\n",
       "3979     51.0\n",
       "4150     51.0\n",
       "5979     49.0\n",
       "7418     50.0\n",
       "8853     51.0\n",
       "11368    43.0\n",
       "22701    49.0\n",
       "25179    50.0\n",
       "26387    51.0\n",
       "33586    51.0\n",
       "35633    44.0\n",
       "45798    51.0\n",
       "46040    51.0\n",
       "47630    51.0\n",
       "Name: table, dtype: float64"
      ]
     },
     "execution_count": 27,
     "metadata": {},
     "output_type": "execute_result"
    }
   ],
   "source": [
    "df_table[aykiri_tf]"
   ]
  },
  {
   "cell_type": "code",
   "execution_count": 28,
   "id": "c07e8f7a-8013-4d03-9c7a-f3401015d4d0",
   "metadata": {},
   "outputs": [
    {
     "data": {
      "text/plain": [
       "57.45718390804603"
      ]
     },
     "execution_count": 28,
     "metadata": {},
     "output_type": "execute_result"
    }
   ],
   "source": [
    "df_table.mean()"
   ]
  },
  {
   "cell_type": "code",
   "execution_count": 29,
   "id": "79ca9b52-a649-4693-8a2c-c6532704d843",
   "metadata": {},
   "outputs": [
    {
     "name": "stderr",
     "output_type": "stream",
     "text": [
      "C:\\Users\\murat\\AppData\\Local\\Temp\\ipykernel_16424\\3741757661.py:1: SettingWithCopyWarning: \n",
      "A value is trying to be set on a copy of a slice from a DataFrame\n",
      "\n",
      "See the caveats in the documentation: https://pandas.pydata.org/pandas-docs/stable/user_guide/indexing.html#returning-a-view-versus-a-copy\n",
      "  df_table[aykiri_tf] = df_table.mean()\n"
     ]
    }
   ],
   "source": [
    "df_table[aykiri_tf] = df_table.mean()"
   ]
  },
  {
   "cell_type": "code",
   "execution_count": 30,
   "id": "f4d0366a-5f34-4b34-8a59-a529dc5f3e15",
   "metadata": {},
   "outputs": [
    {
     "data": {
      "text/plain": [
       "57.45950528258309"
      ]
     },
     "execution_count": 30,
     "metadata": {},
     "output_type": "execute_result"
    }
   ],
   "source": [
    "df_table.mean()"
   ]
  },
  {
   "cell_type": "code",
   "execution_count": 31,
   "id": "6d770ae0-686b-4f8d-b0e6-5fb1e32f0f49",
   "metadata": {},
   "outputs": [
    {
     "data": {
      "text/plain": [
       "1515     57.457184\n",
       "3238     57.457184\n",
       "3979     57.457184\n",
       "4150     57.457184\n",
       "5979     57.457184\n",
       "7418     57.457184\n",
       "8853     57.457184\n",
       "11368    57.457184\n",
       "22701    57.457184\n",
       "25179    57.457184\n",
       "26387    57.457184\n",
       "33586    57.457184\n",
       "35633    57.457184\n",
       "45798    57.457184\n",
       "46040    57.457184\n",
       "47630    57.457184\n",
       "Name: table, dtype: float64"
      ]
     },
     "execution_count": 31,
     "metadata": {},
     "output_type": "execute_result"
    }
   ],
   "source": [
    "df_table[aykiri_tf]"
   ]
  },
  {
   "cell_type": "markdown",
   "id": "4af7ca17-0d8e-4e56-956a-fd266667ac41",
   "metadata": {},
   "source": [
    "# Baskılama Yöntemi"
   ]
  },
  {
   "cell_type": "markdown",
   "id": "7c0509fc-4ea4-4d10-ac42-21ee21cc94b1",
   "metadata": {},
   "source": [
    "### Baskılama yönteminde aykırı gözlemler, eğer üst sınırdaysa üst sınır eşik değerine eşitlenir, alt sınırda ise alt sınır eşik değerine eşitlenir."
   ]
  },
  {
   "cell_type": "code",
   "execution_count": 32,
   "id": "9bec73a2-6085-4824-9083-8fbf6196f2e8",
   "metadata": {},
   "outputs": [],
   "source": [
    "import seaborn as sns\n",
    "import pandas as pd"
   ]
  },
  {
   "cell_type": "code",
   "execution_count": 33,
   "id": "3190e74d-576c-4942-be10-cfedd173168f",
   "metadata": {},
   "outputs": [
    {
     "data": {
      "text/html": [
       "<div>\n",
       "<style scoped>\n",
       "    .dataframe tbody tr th:only-of-type {\n",
       "        vertical-align: middle;\n",
       "    }\n",
       "\n",
       "    .dataframe tbody tr th {\n",
       "        vertical-align: top;\n",
       "    }\n",
       "\n",
       "    .dataframe thead th {\n",
       "        text-align: right;\n",
       "    }\n",
       "</style>\n",
       "<table border=\"1\" class=\"dataframe\">\n",
       "  <thead>\n",
       "    <tr style=\"text-align: right;\">\n",
       "      <th></th>\n",
       "      <th>carat</th>\n",
       "      <th>depth</th>\n",
       "      <th>table</th>\n",
       "      <th>price</th>\n",
       "      <th>x</th>\n",
       "      <th>y</th>\n",
       "      <th>z</th>\n",
       "    </tr>\n",
       "  </thead>\n",
       "  <tbody>\n",
       "    <tr>\n",
       "      <th>0</th>\n",
       "      <td>0.23</td>\n",
       "      <td>61.5</td>\n",
       "      <td>55.0</td>\n",
       "      <td>326</td>\n",
       "      <td>3.95</td>\n",
       "      <td>3.98</td>\n",
       "      <td>2.43</td>\n",
       "    </tr>\n",
       "    <tr>\n",
       "      <th>1</th>\n",
       "      <td>0.21</td>\n",
       "      <td>59.8</td>\n",
       "      <td>61.0</td>\n",
       "      <td>326</td>\n",
       "      <td>3.89</td>\n",
       "      <td>3.84</td>\n",
       "      <td>2.31</td>\n",
       "    </tr>\n",
       "    <tr>\n",
       "      <th>2</th>\n",
       "      <td>0.23</td>\n",
       "      <td>56.9</td>\n",
       "      <td>65.0</td>\n",
       "      <td>327</td>\n",
       "      <td>4.05</td>\n",
       "      <td>4.07</td>\n",
       "      <td>2.31</td>\n",
       "    </tr>\n",
       "    <tr>\n",
       "      <th>3</th>\n",
       "      <td>0.29</td>\n",
       "      <td>62.4</td>\n",
       "      <td>58.0</td>\n",
       "      <td>334</td>\n",
       "      <td>4.20</td>\n",
       "      <td>4.23</td>\n",
       "      <td>2.63</td>\n",
       "    </tr>\n",
       "    <tr>\n",
       "      <th>4</th>\n",
       "      <td>0.31</td>\n",
       "      <td>63.3</td>\n",
       "      <td>58.0</td>\n",
       "      <td>335</td>\n",
       "      <td>4.34</td>\n",
       "      <td>4.35</td>\n",
       "      <td>2.75</td>\n",
       "    </tr>\n",
       "  </tbody>\n",
       "</table>\n",
       "</div>"
      ],
      "text/plain": [
       "   carat  depth  table  price     x     y     z\n",
       "0   0.23   61.5   55.0    326  3.95  3.98  2.43\n",
       "1   0.21   59.8   61.0    326  3.89  3.84  2.31\n",
       "2   0.23   56.9   65.0    327  4.05  4.07  2.31\n",
       "3   0.29   62.4   58.0    334  4.20  4.23  2.63\n",
       "4   0.31   63.3   58.0    335  4.34  4.35  2.75"
      ]
     },
     "execution_count": 33,
     "metadata": {},
     "output_type": "execute_result"
    }
   ],
   "source": [
    "df = sns.load_dataset('diamonds')\n",
    "df = df.select_dtypes(include = ['float64', 'int64'])\n",
    "df = df.dropna()\n",
    "df.head()"
   ]
  },
  {
   "cell_type": "code",
   "execution_count": 34,
   "id": "6e1b4d9f-0784-450c-b721-ca80cd989b4b",
   "metadata": {},
   "outputs": [],
   "source": [
    "df_table = df['table']"
   ]
  },
  {
   "cell_type": "code",
   "execution_count": 35,
   "id": "5d4654be-03b1-4ecc-a0c0-1ab07a9844b1",
   "metadata": {},
   "outputs": [
    {
     "data": {
      "text/plain": [
       "1515     51.0\n",
       "3238     50.1\n",
       "3979     51.0\n",
       "4150     51.0\n",
       "5979     49.0\n",
       "7418     50.0\n",
       "8853     51.0\n",
       "11368    43.0\n",
       "22701    49.0\n",
       "25179    50.0\n",
       "26387    51.0\n",
       "33586    51.0\n",
       "35633    44.0\n",
       "45798    51.0\n",
       "46040    51.0\n",
       "47630    51.0\n",
       "Name: table, dtype: float64"
      ]
     },
     "execution_count": 35,
     "metadata": {},
     "output_type": "execute_result"
    }
   ],
   "source": [
    "df_table[aykiri_tf]"
   ]
  },
  {
   "cell_type": "code",
   "execution_count": 36,
   "id": "c55cca24-607e-4d96-aa5b-bb73ad8cadb3",
   "metadata": {},
   "outputs": [
    {
     "name": "stderr",
     "output_type": "stream",
     "text": [
      "C:\\Users\\murat\\AppData\\Local\\Temp\\ipykernel_16424\\3246625175.py:1: SettingWithCopyWarning: \n",
      "A value is trying to be set on a copy of a slice from a DataFrame\n",
      "\n",
      "See the caveats in the documentation: https://pandas.pydata.org/pandas-docs/stable/user_guide/indexing.html#returning-a-view-versus-a-copy\n",
      "  df_table[aykiri_tf] = alt_sinir\n"
     ]
    }
   ],
   "source": [
    "df_table[aykiri_tf] = alt_sinir"
   ]
  },
  {
   "cell_type": "code",
   "execution_count": 37,
   "id": "e9042aa8-ae1d-4c9f-aaa2-fee2bbc20615",
   "metadata": {},
   "outputs": [
    {
     "data": {
      "text/plain": [
       "1515     51.5\n",
       "3238     51.5\n",
       "3979     51.5\n",
       "4150     51.5\n",
       "5979     51.5\n",
       "7418     51.5\n",
       "8853     51.5\n",
       "11368    51.5\n",
       "22701    51.5\n",
       "25179    51.5\n",
       "26387    51.5\n",
       "33586    51.5\n",
       "35633    51.5\n",
       "45798    51.5\n",
       "46040    51.5\n",
       "47630    51.5\n",
       "Name: table, dtype: float64"
      ]
     },
     "execution_count": 37,
     "metadata": {},
     "output_type": "execute_result"
    }
   ],
   "source": [
    "df_table[aykiri_tf]"
   ]
  },
  {
   "cell_type": "markdown",
   "id": "51dda295-ff06-4573-bb91-4c2ad3b7b6ac",
   "metadata": {},
   "source": [
    "# -------------------------------------------------------------------------"
   ]
  }
 ],
 "metadata": {
  "kernelspec": {
   "display_name": "Python 3 (ipykernel)",
   "language": "python",
   "name": "python3"
  },
  "language_info": {
   "codemirror_mode": {
    "name": "ipython",
    "version": 3
   },
   "file_extension": ".py",
   "mimetype": "text/x-python",
   "name": "python",
   "nbconvert_exporter": "python",
   "pygments_lexer": "ipython3",
   "version": "3.9.12"
  }
 },
 "nbformat": 4,
 "nbformat_minor": 5
}
