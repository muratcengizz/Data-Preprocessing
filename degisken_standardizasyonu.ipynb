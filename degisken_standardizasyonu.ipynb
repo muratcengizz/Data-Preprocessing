{
 "cells": [
  {
   "cell_type": "markdown",
   "id": "b4b62d6d-94bd-4c8e-a631-0ecbaa8c719b",
   "metadata": {
    "tags": []
   },
   "source": [
    "# Değişken Standardizasyonu"
   ]
  },
  {
   "cell_type": "markdown",
   "id": "c84dd15f-9b80-44d8-a18b-083903ff4407",
   "metadata": {},
   "source": [
    "### Veri biliminde değişken standardizasyonu, farklı özelliklere sahip değişkenlerin aynı ölçekte ifade edilmesini sağlamak için kullanılan bir yöntemdir. Bu yöntem, verileri analiz etmek, karşılaştırmak ve anlamak için daha kolay bir şekilde kullanılabilir hale getirir.\n",
    "\n",
    "### Değişken standardizasyonu, değişkenlerin ortalaması ve standart sapması kullanılarak gerçekleştirilir. Bu yöntem, bir değişkenin değerlerinin ortalamadan ne kadar uzaklaştığını ölçen standart sapmayı hesaplamayı içerir. Daha sonra, her bir veri noktasından ortalama değer çıkarılır ve bu fark, standart sapmaya bölünerek değişken standartlaştırılır.\n",
    "\n",
    "### Bu yöntem, farklı birimlerde ölçülen değişkenleri karşılaştırmak ve analiz etmek için kullanışlıdır. Örneğin, bir özellik dolar cinsinden ölçülürken diğer özellik birim fiyatı olarak ölçülebilir. Bu durumda, standartlaştırma yaparak her iki değişkeni aynı ölçekte ifade edebiliriz ve analiz edebiliriz."
   ]
  },
  {
   "cell_type": "code",
   "execution_count": 1,
   "id": "7a943790-7eca-4161-99dd-47f8512c5518",
   "metadata": {},
   "outputs": [],
   "source": [
    "import numpy as np\n",
    "import pandas as pd"
   ]
  },
  {
   "cell_type": "code",
   "execution_count": 2,
   "id": "f63fe142-1808-4767-b9f9-90c0a3b902b8",
   "metadata": {},
   "outputs": [
    {
     "data": {
      "text/html": [
       "<div>\n",
       "<style scoped>\n",
       "    .dataframe tbody tr th:only-of-type {\n",
       "        vertical-align: middle;\n",
       "    }\n",
       "\n",
       "    .dataframe tbody tr th {\n",
       "        vertical-align: top;\n",
       "    }\n",
       "\n",
       "    .dataframe thead th {\n",
       "        text-align: right;\n",
       "    }\n",
       "</style>\n",
       "<table border=\"1\" class=\"dataframe\">\n",
       "  <thead>\n",
       "    <tr style=\"text-align: right;\">\n",
       "      <th></th>\n",
       "      <th>V1</th>\n",
       "      <th>V2</th>\n",
       "      <th>V3</th>\n",
       "    </tr>\n",
       "  </thead>\n",
       "  <tbody>\n",
       "    <tr>\n",
       "      <th>0</th>\n",
       "      <td>1.0</td>\n",
       "      <td>7.0</td>\n",
       "      <td>6.0</td>\n",
       "    </tr>\n",
       "    <tr>\n",
       "      <th>1</th>\n",
       "      <td>3.0</td>\n",
       "      <td>7.0</td>\n",
       "      <td>12.0</td>\n",
       "    </tr>\n",
       "    <tr>\n",
       "      <th>2</th>\n",
       "      <td>6.0</td>\n",
       "      <td>5.0</td>\n",
       "      <td>5.0</td>\n",
       "    </tr>\n",
       "    <tr>\n",
       "      <th>3</th>\n",
       "      <td>5.0</td>\n",
       "      <td>8.0</td>\n",
       "      <td>6.0</td>\n",
       "    </tr>\n",
       "    <tr>\n",
       "      <th>4</th>\n",
       "      <td>7.0</td>\n",
       "      <td>12.0</td>\n",
       "      <td>14.0</td>\n",
       "    </tr>\n",
       "  </tbody>\n",
       "</table>\n",
       "</div>"
      ],
      "text/plain": [
       "    V1    V2    V3\n",
       "0  1.0   7.0   6.0\n",
       "1  3.0   7.0  12.0\n",
       "2  6.0   5.0   5.0\n",
       "3  5.0   8.0   6.0\n",
       "4  7.0  12.0  14.0"
      ]
     },
     "execution_count": 2,
     "metadata": {},
     "output_type": "execute_result"
    }
   ],
   "source": [
    "V1 = np.array([1, 3, 6, 5, 7])\n",
    "V2 = np.array([7, 7, 5, 8, 12])\n",
    "V3 = np.array([6, 12, 5, 6, 14])\n",
    "\n",
    "df = pd.DataFrame({\n",
    "    \"V1\": V1,\n",
    "    \"V2\": V2,\n",
    "    \"V3\": V3\n",
    "})\n",
    "\n",
    "df = df.astype(float)\n",
    "df"
   ]
  },
  {
   "cell_type": "markdown",
   "id": "4c9b477c-5bfd-461a-ac56-c28110c09269",
   "metadata": {},
   "source": [
    "# Standardizasyon"
   ]
  },
  {
   "cell_type": "code",
   "execution_count": 3,
   "id": "c5618e05-f9ea-44cc-80b0-28b7a82710f6",
   "metadata": {},
   "outputs": [],
   "source": [
    "from sklearn import preprocessing"
   ]
  },
  {
   "cell_type": "code",
   "execution_count": 4,
   "id": "af632616-1179-45e3-b047-672a0520571d",
   "metadata": {},
   "outputs": [
    {
     "data": {
      "text/plain": [
       "array([[-1.57841037, -0.34554737, -0.70920814],\n",
       "       [-0.64993368, -0.34554737,  0.92742603],\n",
       "       [ 0.74278135, -1.2094158 , -0.98198051],\n",
       "       [ 0.27854301,  0.08638684, -0.70920814],\n",
       "       [ 1.2070197 ,  1.81412369,  1.47297076]])"
      ]
     },
     "execution_count": 4,
     "metadata": {},
     "output_type": "execute_result"
    }
   ],
   "source": [
    "preprocessing.scale(df)"
   ]
  },
  {
   "cell_type": "code",
   "execution_count": 6,
   "id": "e53a1dae-f30d-4e2f-a952-0f9f50fe8814",
   "metadata": {},
   "outputs": [
    {
     "data": {
      "text/html": [
       "<div>\n",
       "<style scoped>\n",
       "    .dataframe tbody tr th:only-of-type {\n",
       "        vertical-align: middle;\n",
       "    }\n",
       "\n",
       "    .dataframe tbody tr th {\n",
       "        vertical-align: top;\n",
       "    }\n",
       "\n",
       "    .dataframe thead th {\n",
       "        text-align: right;\n",
       "    }\n",
       "</style>\n",
       "<table border=\"1\" class=\"dataframe\">\n",
       "  <thead>\n",
       "    <tr style=\"text-align: right;\">\n",
       "      <th></th>\n",
       "      <th>V1</th>\n",
       "      <th>V2</th>\n",
       "      <th>V3</th>\n",
       "    </tr>\n",
       "  </thead>\n",
       "  <tbody>\n",
       "    <tr>\n",
       "      <th>0</th>\n",
       "      <td>1.0</td>\n",
       "      <td>7.0</td>\n",
       "      <td>6.0</td>\n",
       "    </tr>\n",
       "    <tr>\n",
       "      <th>1</th>\n",
       "      <td>3.0</td>\n",
       "      <td>7.0</td>\n",
       "      <td>12.0</td>\n",
       "    </tr>\n",
       "  </tbody>\n",
       "</table>\n",
       "</div>"
      ],
      "text/plain": [
       "    V1   V2    V3\n",
       "0  1.0  7.0   6.0\n",
       "1  3.0  7.0  12.0"
      ]
     },
     "execution_count": 6,
     "metadata": {},
     "output_type": "execute_result"
    }
   ],
   "source": [
    "df.head(2)"
   ]
  },
  {
   "cell_type": "code",
   "execution_count": 7,
   "id": "73c87006-d5d2-4b27-9729-af51e4a6bf92",
   "metadata": {},
   "outputs": [
    {
     "data": {
      "text/plain": [
       "V1    4.4\n",
       "V2    7.8\n",
       "V3    8.6\n",
       "dtype: float64"
      ]
     },
     "execution_count": 7,
     "metadata": {},
     "output_type": "execute_result"
    }
   ],
   "source": [
    "df.mean()"
   ]
  },
  {
   "cell_type": "markdown",
   "id": "53ea5213-a24e-47a6-ac62-1248b9d6818a",
   "metadata": {},
   "source": [
    "# Normalizasyon"
   ]
  },
  {
   "cell_type": "code",
   "execution_count": 9,
   "id": "b90ea9e7-8a7c-4653-94ed-aa58b57d77d2",
   "metadata": {},
   "outputs": [
    {
     "data": {
      "text/plain": [
       "array([[0.10783277, 0.75482941, 0.64699664],\n",
       "       [0.21107926, 0.49251828, 0.84431705],\n",
       "       [0.64699664, 0.53916387, 0.53916387],\n",
       "       [0.4472136 , 0.71554175, 0.53665631],\n",
       "       [0.35491409, 0.60842415, 0.70982818]])"
      ]
     },
     "execution_count": 9,
     "metadata": {},
     "output_type": "execute_result"
    }
   ],
   "source": [
    "# değerleri 0 ile 1 arasına dönüştürmek için kullanılır.\n",
    "\n",
    "preprocessing.normalize(df)"
   ]
  },
  {
   "cell_type": "markdown",
   "id": "12a2dbfa-c7e8-45d8-ab9e-d4cbf6c7c545",
   "metadata": {},
   "source": [
    "# Min-Max Dönüşümü"
   ]
  },
  {
   "cell_type": "code",
   "execution_count": 13,
   "id": "dcd1a53d-c76e-4fcc-9e14-ad91f1fe708c",
   "metadata": {},
   "outputs": [],
   "source": [
    "## değerleri istediğimiz aralıklar içerisinde dönüştürmek için kullanılır.\n",
    "\n",
    "scaler = preprocessing.MinMaxScaler(feature_range = (10, 20))"
   ]
  },
  {
   "cell_type": "code",
   "execution_count": 14,
   "id": "d262ae34-9a4b-4430-b083-4caa1817ae04",
   "metadata": {},
   "outputs": [
    {
     "data": {
      "text/plain": [
       "array([[10.        , 12.85714286, 11.11111111],\n",
       "       [13.33333333, 12.85714286, 17.77777778],\n",
       "       [18.33333333, 10.        , 10.        ],\n",
       "       [16.66666667, 14.28571429, 11.11111111],\n",
       "       [20.        , 20.        , 20.        ]])"
      ]
     },
     "execution_count": 14,
     "metadata": {},
     "output_type": "execute_result"
    }
   ],
   "source": [
    "scaler.fit_transform(df)"
   ]
  }
 ],
 "metadata": {
  "kernelspec": {
   "display_name": "Python 3 (ipykernel)",
   "language": "python",
   "name": "python3"
  },
  "language_info": {
   "codemirror_mode": {
    "name": "ipython",
    "version": 3
   },
   "file_extension": ".py",
   "mimetype": "text/x-python",
   "name": "python",
   "nbconvert_exporter": "python",
   "pygments_lexer": "ipython3",
   "version": "3.9.12"
  }
 },
 "nbformat": 4,
 "nbformat_minor": 5
}
