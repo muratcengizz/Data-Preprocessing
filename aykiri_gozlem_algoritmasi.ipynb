{
 "cells": [
  {
   "cell_type": "markdown",
   "id": "abb3a7f3-b17a-4aad-8925-62aa0f9fe741",
   "metadata": {},
   "source": [
    "# Aykırı Gözlem Algoritması"
   ]
  },
  {
   "cell_type": "markdown",
   "id": "c08e0b29-14c5-41c6-8640-661b1e1d65ce",
   "metadata": {},
   "source": [
    "## 1) Veri setindeki nümerik değişkenleri ayrıştır."
   ]
  },
  {
   "cell_type": "markdown",
   "id": "bbb4b5d9-b6c1-4f78-80c4-27df47c213cf",
   "metadata": {},
   "source": [
    "## 2) Veri setinde üzerinde çalışmak istediğin değişkeni seç."
   ]
  },
  {
   "cell_type": "markdown",
   "id": "1bbbb830-3613-4552-9f0b-d133028edf6d",
   "metadata": {},
   "source": [
    "## 3) Bu değişkeni boxplot grafiği ile gözlemle."
   ]
  },
  {
   "cell_type": "markdown",
   "id": "3bace213-45d0-46b8-b9a9-bf9509a82eb2",
   "metadata": {},
   "source": [
    "## 4) Değişkenin Q1 ve Q3 kuartillerini belirle. Daha sonra IQR değerini hesapla."
   ]
  },
  {
   "cell_type": "markdown",
   "id": "32d9634a-dfa2-43c1-90f3-d0977838eb95",
   "metadata": {},
   "source": [
    "## 5) 4. aşamada bulunan değerler ile alt sınır ve üst sınır değerlerini hesapla."
   ]
  },
  {
   "cell_type": "markdown",
   "id": "973a0dad-31cd-49d2-96ee-925f86eef684",
   "metadata": {},
   "source": [
    "## 6) Veri seti üzerinde bir sorgu çalıştırarak alt sınır ve üst sınır dışındaki gözlemleri aykırı gözlem olarak işaretle."
   ]
  }
 ],
 "metadata": {
  "kernelspec": {
   "display_name": "Python 3 (ipykernel)",
   "language": "python",
   "name": "python3"
  },
  "language_info": {
   "codemirror_mode": {
    "name": "ipython",
    "version": 3
   },
   "file_extension": ".py",
   "mimetype": "text/x-python",
   "name": "python",
   "nbconvert_exporter": "python",
   "pygments_lexer": "ipython3",
   "version": "3.9.12"
  }
 },
 "nbformat": 4,
 "nbformat_minor": 5
}
