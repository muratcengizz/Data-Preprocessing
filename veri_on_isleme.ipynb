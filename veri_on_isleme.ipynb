{
 "cells": [
  {
   "cell_type": "markdown",
   "id": "88b40996-a40d-4b9e-8d1e-e2e2487f8a6a",
   "metadata": {},
   "source": [
    "# Veri Ön İşleme"
   ]
  },
  {
   "cell_type": "markdown",
   "id": "c89fcad4-ed61-4052-b13d-f00f1a930fe2",
   "metadata": {},
   "source": [
    "### Veri Ön İşleme Genel Bakış\n",
    "### Aykırı Gözlem Analizi\n",
    "### Eksik Veri Analizi\n",
    "### Standartlaştırma\n",
    "### Değişken Dönüşümleri"
   ]
  },
  {
   "cell_type": "markdown",
   "id": "a92f68c6-6c04-4dab-adf4-bb623c1755c4",
   "metadata": {},
   "source": [
    "# Genel Bakış\n",
    "\n",
    "## Veri Temizleme (Data Cleaning / Cleasing)\n",
    "### Gürültülü Veri (Noisy Data)\n",
    "### Eksik Veri Analizi (Missing Data Analysis)\n",
    "### Aykırı Gözlem Analizi (Outlier Analysis)\n",
    "\n",
    "\n",
    "## Veri Standardizasyonu (Data Standardization, Feature Scaling)\n",
    "### 0-1 Dönüşümü (Normalization)\n",
    "### Z-skoruna Dönüştürme (Standartdization)\n",
    "### Logaritmik Dönüşüm (Log Transformation)\n",
    "\n",
    "## Veri İndirgeme (Data Reduction)\n",
    "### Gözlem (Observation) Sayısının Azaltılması\n",
    "### Değişken (Variable) Sayısının Azaltılması\n",
    "\n",
    "## Değişken Dönüşümleri (Variable Transformation)\n",
    "### Sürekli Değişkenlerde Dönüşümler\n",
    "### Kategorik Değişkenlerde Dönüşümler"
   ]
  }
 ],
 "metadata": {
  "kernelspec": {
   "display_name": "Python 3 (ipykernel)",
   "language": "python",
   "name": "python3"
  },
  "language_info": {
   "codemirror_mode": {
    "name": "ipython",
    "version": 3
   },
   "file_extension": ".py",
   "mimetype": "text/x-python",
   "name": "python",
   "nbconvert_exporter": "python",
   "pygments_lexer": "ipython3",
   "version": "3.9.12"
  }
 },
 "nbformat": 4,
 "nbformat_minor": 5
}
